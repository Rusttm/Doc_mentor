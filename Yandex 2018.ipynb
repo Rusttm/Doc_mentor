{
 "cells": [
  {
   "cell_type": "markdown",
   "id": "7ea80113",
   "metadata": {},
   "source": [
    "https://contest.yandex.ru/contest/12341/problems/"
   ]
  },
  {
   "cell_type": "markdown",
   "id": "9965371b",
   "metadata": {},
   "source": [
    "A. Частый элемент\n",
    "\n",
    "Ограничение времени\t2 секунды\n",
    "Ограничение памяти\t256Mb\n",
    "Ввод\tстандартный ввод или input.txt\n",
    "Вывод\tстандартный вывод или output.txt\n",
    "Отправить на проверку нужно исходный код программы, решающей поставленную задачу.\n",
    "Дан массив a из n целых чисел. Напишите программу, которая найдет число, которое встречается в массиве наибольшее число раз.\n",
    "Формат ввода\n",
    "\n",
    "В первой строке входных данных записано число n (1 ≤ n ≤ 300 000). Во второй строке записаны n целых чисел ai (0 ≤ ai ≤ 1 000 000 000).\n",
    "Формат вывода\n",
    "\n",
    "Выведите единственное число x, наибольшее из чисел, которое встречается в a максимальное количество раз.\n"
   ]
  },
  {
   "cell_type": "code",
   "execution_count": null,
   "id": "dc0bc6ae",
   "metadata": {},
   "outputs": [],
   "source": [
    "# make generator\n",
    "\n",
    "\n",
    "\n",
    "\n",
    "\n"
   ]
  },
  {
   "cell_type": "code",
   "execution_count": null,
   "id": "a29ef621",
   "metadata": {},
   "outputs": [],
   "source": []
  },
  {
   "cell_type": "code",
   "execution_count": null,
   "id": "b85d57ea",
   "metadata": {},
   "outputs": [],
   "source": []
  }
 ],
 "metadata": {
  "kernelspec": {
   "display_name": "Python 3 (ipykernel)",
   "language": "python",
   "name": "python3"
  },
  "language_info": {
   "codemirror_mode": {
    "name": "ipython",
    "version": 3
   },
   "file_extension": ".py",
   "mimetype": "text/x-python",
   "name": "python",
   "nbconvert_exporter": "python",
   "pygments_lexer": "ipython3",
   "version": "3.9.7"
  }
 },
 "nbformat": 4,
 "nbformat_minor": 5
}
