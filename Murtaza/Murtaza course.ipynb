{
 "cells": [
  {
   "cell_type": "markdown",
   "id": "29c465aa",
   "metadata": {},
   "source": [
    "from https://youtu.be/nnH55-zD38I?list=PL45ldJ70zlhchPnWsDn3dVXkOWUtG-TDX"
   ]
  },
  {
   "cell_type": "code",
   "execution_count": 1,
   "id": "e8c61209",
   "metadata": {},
   "outputs": [
    {
     "name": "stdout",
     "output_type": "stream",
     "text": [
      "Work directory is  /Users/johnlennon/My Drive/Python/Pdf/Murtaza\n",
      "Init Plugin\n",
      "Tensorflow version is  2.5.0\n",
      "Init Graph Optimizer\n",
      "Init Kernel\n",
      "OpenCV version is  4.5.4-dev\n"
     ]
    }
   ],
   "source": [
    "import os\n",
    "os.environ['TF_CPP_MIN_LOG_LEVEL'] = '2'\n",
    "print('Work directory is ', os.getcwd())\n",
    "import tensorflow as tf\n",
    "print('Tensorflow version is ', tf.__version__)\n",
    "import cv2\n",
    "print('OpenCV version is ', cv2.__version__)"
   ]
  },
  {
   "cell_type": "code",
   "execution_count": 2,
   "id": "8cbc2eeb",
   "metadata": {},
   "outputs": [],
   "source": [
    "CUR_DIR = '/Users/johnlennon/My Drive/Python/Pdf/Murtaza'\n",
    "IMG_DIR = '/Users/johnlennon/My Drive/Python/Pdf/data/Murtaza_img'\n",
    "IMG_DIR_TRAIN = '/Users/johnlennon/My Drive/Python/Pdf/data/Murtaza_img/train'\n",
    "IMG_DIR_TEST = '/Users/johnlennon/My Drive/Python/Pdf/data/Murtaza_img/test'\n",
    "orb = cv2.ORB_create(nfeatures=1000)\n",
    "bf = cv2.BFMatcher()\n"
   ]
  },
  {
   "cell_type": "code",
   "execution_count": 3,
   "id": "b3f8599a",
   "metadata": {},
   "outputs": [],
   "source": [
    "def classes():\n",
    "    \"\"\"return dict {classes:[], images: []}\"\"\"\n",
    "    images = []\n",
    "    typeNames = []\n",
    "    descriptors = []\n",
    "    filesList = os.listdir(IMG_DIR_TRAIN)\n",
    "    for name in filesList:\n",
    "        imgCur = cv2.imread(f'{IMG_DIR_TRAIN}/{name}', 0)\n",
    "        images.append(imgCur)\n",
    "        typeNames.append(os.path.splitext(name)[0])\n",
    "        kp, desc = orb.detectAndCompute(imgCur, None)\n",
    "        descriptors.append(desc)\n",
    "    return {'classes': typeNames, 'images': images, 'descriptors': descriptors}\n"
   ]
  },
  {
   "cell_type": "code",
   "execution_count": 4,
   "id": "a4f7fe0b",
   "metadata": {},
   "outputs": [],
   "source": [
    "images_descriptors = classes()['descriptors']\n",
    "images_classes = classes()['classes']\n"
   ]
  },
  {
   "cell_type": "code",
   "execution_count": 5,
   "id": "58849095",
   "metadata": {},
   "outputs": [],
   "source": [
    "def findDes(images = classes()['images']):\n",
    "    \"\"\"looks descriptors in images and return descriptor list\"\"\"\n",
    "    desList = []\n",
    "\n",
    "    for image in images:\n",
    "        kp, des = orb.detectAndCompute(image, None)\n",
    "        desList.append(des)\n",
    "    return desList"
   ]
  },
  {
   "cell_type": "code",
   "execution_count": 6,
   "id": "4b0bb5c6",
   "metadata": {},
   "outputs": [],
   "source": [
    "def percList(matchList):\n",
    "    if sum(matchList):\n",
    "        summ = sum(matchList)\n",
    "    else:\n",
    "        summ = 1\n",
    "    perc_List = []\n",
    "    max_perc = 0\n",
    "    answer = 'No matches'\n",
    "    for i, data in enumerate(matchList):\n",
    "        perc = int(data*100/summ)\n",
    "        if perc >= max_perc:\n",
    "            max_perc = perc\n",
    "            answer = f'{images_classes[i]}:{perc}%'\n",
    "        perc_List.append(perc)\n",
    "    return answer\n",
    "\n"
   ]
  },
  {
   "cell_type": "code",
   "execution_count": 7,
   "id": "414a746c",
   "metadata": {},
   "outputs": [],
   "source": [
    "def matcher(image):\n",
    "    kp, des = orb.detectAndCompute(image, None)\n",
    "    bf = cv2.BFMatcher()\n",
    "    matchList = []\n",
    "    for desc2 in images_descriptors:\n",
    "        matches = bf.knnMatch(des, desc2, k=2)\n",
    "        good = []\n",
    "        for m, n in matches:\n",
    "            if m.distance < 0.8 * n.distance:\n",
    "                good.append(m)\n",
    "        matchList.append(len(good))\n",
    "    return percList(matchList)\n"
   ]
  },
  {
   "cell_type": "code",
   "execution_count": 8,
   "id": "a38f0bd9",
   "metadata": {},
   "outputs": [],
   "source": [
    "def capture_the_frame():\n",
    "    cap = cv2.VideoCapture(0)\n",
    "\n",
    "    while True:\n",
    "        success, frame = cap.read()\n",
    "        capImg = frame.copy()\n",
    "        try:\n",
    "            print(matcher(capImg))\n",
    "        except Exception as e:\n",
    "            print('exception', e)\n",
    "        #im2 = cv2.cvtColor(frame, cv2.COLOR_BGR2GRAY)\n",
    "\n",
    "        #cv2.imshow('press q for quit', capImg)\n",
    "        cv2.imshow(matcher(capImg), capImg)\n",
    "        if cv2.waitKey(1) & 0xFF == ord('q'):\n",
    "            #os.chdir(os.getcwd())\n",
    "            #filename = 'CaptureImage.jpg'\n",
    "            #print(cv2.imwrite(filename, frame))\n",
    "            break\n",
    "    cap.release()\n",
    "    cv2.destroyAllWindows()\n"
   ]
  },
  {
   "cell_type": "code",
   "execution_count": 9,
   "id": "ad61fc39",
   "metadata": {},
   "outputs": [
    {
     "name": "stdout",
     "output_type": "stream",
     "text": [
      "exception OpenCV(4.5.4-dev) /private/var/folders/b7/g6qfbypj0tq32j5_trjh516r0000gn/T/pip-req-build-fa56atft/opencv/modules/core/src/batch_distance.cpp:275: error: (-215:Assertion failed) type == src2.type() && src1.cols == src2.cols && (type == CV_32F || type == CV_8U) in function 'batchDistance'\n",
      "\n"
     ]
    },
    {
     "ename": "error",
     "evalue": "OpenCV(4.5.4-dev) /private/var/folders/b7/g6qfbypj0tq32j5_trjh516r0000gn/T/pip-req-build-fa56atft/opencv/modules/core/src/batch_distance.cpp:275: error: (-215:Assertion failed) type == src2.type() && src1.cols == src2.cols && (type == CV_32F || type == CV_8U) in function 'batchDistance'\n",
     "output_type": "error",
     "traceback": [
      "\u001b[0;31m---------------------------------------------------------------------------\u001b[0m",
      "\u001b[0;31merror\u001b[0m                                     Traceback (most recent call last)",
      "\u001b[0;32m/var/folders/_q/03tkk3nx5xq63qd_bldrts5h0000gn/T/ipykernel_8226/2066149179.py\u001b[0m in \u001b[0;36m<module>\u001b[0;34m\u001b[0m\n\u001b[0;32m----> 1\u001b[0;31m \u001b[0mcapture_the_frame\u001b[0m\u001b[0;34m(\u001b[0m\u001b[0;34m)\u001b[0m\u001b[0;34m\u001b[0m\u001b[0;34m\u001b[0m\u001b[0m\n\u001b[0m",
      "\u001b[0;32m/var/folders/_q/03tkk3nx5xq63qd_bldrts5h0000gn/T/ipykernel_8226/3197267716.py\u001b[0m in \u001b[0;36mcapture_the_frame\u001b[0;34m()\u001b[0m\n\u001b[1;32m     12\u001b[0m \u001b[0;34m\u001b[0m\u001b[0m\n\u001b[1;32m     13\u001b[0m         \u001b[0;31m#cv2.imshow('press q for quit', capImg)\u001b[0m\u001b[0;34m\u001b[0m\u001b[0;34m\u001b[0m\u001b[0;34m\u001b[0m\u001b[0m\n\u001b[0;32m---> 14\u001b[0;31m         \u001b[0mcv2\u001b[0m\u001b[0;34m.\u001b[0m\u001b[0mimshow\u001b[0m\u001b[0;34m(\u001b[0m\u001b[0mmatcher\u001b[0m\u001b[0;34m(\u001b[0m\u001b[0mcapImg\u001b[0m\u001b[0;34m)\u001b[0m\u001b[0;34m,\u001b[0m \u001b[0mcapImg\u001b[0m\u001b[0;34m)\u001b[0m\u001b[0;34m\u001b[0m\u001b[0;34m\u001b[0m\u001b[0m\n\u001b[0m\u001b[1;32m     15\u001b[0m         \u001b[0;32mif\u001b[0m \u001b[0mcv2\u001b[0m\u001b[0;34m.\u001b[0m\u001b[0mwaitKey\u001b[0m\u001b[0;34m(\u001b[0m\u001b[0;36m1\u001b[0m\u001b[0;34m)\u001b[0m \u001b[0;34m&\u001b[0m \u001b[0;36m0xFF\u001b[0m \u001b[0;34m==\u001b[0m \u001b[0mord\u001b[0m\u001b[0;34m(\u001b[0m\u001b[0;34m'q'\u001b[0m\u001b[0;34m)\u001b[0m\u001b[0;34m:\u001b[0m\u001b[0;34m\u001b[0m\u001b[0;34m\u001b[0m\u001b[0m\n\u001b[1;32m     16\u001b[0m             \u001b[0;31m#os.chdir(os.getcwd())\u001b[0m\u001b[0;34m\u001b[0m\u001b[0;34m\u001b[0m\u001b[0;34m\u001b[0m\u001b[0m\n",
      "\u001b[0;32m/var/folders/_q/03tkk3nx5xq63qd_bldrts5h0000gn/T/ipykernel_8226/2472113450.py\u001b[0m in \u001b[0;36mmatcher\u001b[0;34m(image)\u001b[0m\n\u001b[1;32m      4\u001b[0m     \u001b[0mmatchList\u001b[0m \u001b[0;34m=\u001b[0m \u001b[0;34m[\u001b[0m\u001b[0;34m]\u001b[0m\u001b[0;34m\u001b[0m\u001b[0;34m\u001b[0m\u001b[0m\n\u001b[1;32m      5\u001b[0m     \u001b[0;32mfor\u001b[0m \u001b[0mdesc2\u001b[0m \u001b[0;32min\u001b[0m \u001b[0mimages_descriptors\u001b[0m\u001b[0;34m:\u001b[0m\u001b[0;34m\u001b[0m\u001b[0;34m\u001b[0m\u001b[0m\n\u001b[0;32m----> 6\u001b[0;31m         \u001b[0mmatches\u001b[0m \u001b[0;34m=\u001b[0m \u001b[0mbf\u001b[0m\u001b[0;34m.\u001b[0m\u001b[0mknnMatch\u001b[0m\u001b[0;34m(\u001b[0m\u001b[0mdes\u001b[0m\u001b[0;34m,\u001b[0m \u001b[0mdesc2\u001b[0m\u001b[0;34m,\u001b[0m \u001b[0mk\u001b[0m\u001b[0;34m=\u001b[0m\u001b[0;36m2\u001b[0m\u001b[0;34m)\u001b[0m\u001b[0;34m\u001b[0m\u001b[0;34m\u001b[0m\u001b[0m\n\u001b[0m\u001b[1;32m      7\u001b[0m         \u001b[0mgood\u001b[0m \u001b[0;34m=\u001b[0m \u001b[0;34m[\u001b[0m\u001b[0;34m]\u001b[0m\u001b[0;34m\u001b[0m\u001b[0;34m\u001b[0m\u001b[0m\n\u001b[1;32m      8\u001b[0m         \u001b[0;32mfor\u001b[0m \u001b[0mm\u001b[0m\u001b[0;34m,\u001b[0m \u001b[0mn\u001b[0m \u001b[0;32min\u001b[0m \u001b[0mmatches\u001b[0m\u001b[0;34m:\u001b[0m\u001b[0;34m\u001b[0m\u001b[0;34m\u001b[0m\u001b[0m\n",
      "\u001b[0;31merror\u001b[0m: OpenCV(4.5.4-dev) /private/var/folders/b7/g6qfbypj0tq32j5_trjh516r0000gn/T/pip-req-build-fa56atft/opencv/modules/core/src/batch_distance.cpp:275: error: (-215:Assertion failed) type == src2.type() && src1.cols == src2.cols && (type == CV_32F || type == CV_8U) in function 'batchDistance'\n"
     ]
    }
   ],
   "source": [
    "capture_the_frame()"
   ]
  },
  {
   "cell_type": "code",
   "execution_count": 23,
   "id": "ab8f302a",
   "metadata": {},
   "outputs": [
    {
     "ename": "KeyboardInterrupt",
     "evalue": "",
     "output_type": "error",
     "traceback": [
      "\u001b[0;31m---------------------------------------------------------------------------\u001b[0m",
      "\u001b[0;31mKeyboardInterrupt\u001b[0m                         Traceback (most recent call last)",
      "\u001b[0;32m/var/folders/_q/03tkk3nx5xq63qd_bldrts5h0000gn/T/ipykernel_8226/1701421523.py\u001b[0m in \u001b[0;36m<module>\u001b[0;34m\u001b[0m\n\u001b[1;32m      2\u001b[0m \u001b[0;34m\u001b[0m\u001b[0m\n\u001b[1;32m      3\u001b[0m \u001b[0;32mwhile\u001b[0m \u001b[0;32mTrue\u001b[0m\u001b[0;34m:\u001b[0m\u001b[0;34m\u001b[0m\u001b[0;34m\u001b[0m\u001b[0m\n\u001b[0;32m----> 4\u001b[0;31m     \u001b[0msuccess\u001b[0m\u001b[0;34m,\u001b[0m \u001b[0mframe\u001b[0m \u001b[0;34m=\u001b[0m \u001b[0mcap\u001b[0m\u001b[0;34m.\u001b[0m\u001b[0mread\u001b[0m\u001b[0;34m(\u001b[0m\u001b[0;34m)\u001b[0m\u001b[0;34m\u001b[0m\u001b[0;34m\u001b[0m\u001b[0m\n\u001b[0m\u001b[1;32m      5\u001b[0m \u001b[0;34m\u001b[0m\u001b[0m\n\u001b[1;32m      6\u001b[0m     \u001b[0;31m#im2 = cv2.cvtColor(frame, cv2.COLOR_BGR2GRAY)\u001b[0m\u001b[0;34m\u001b[0m\u001b[0;34m\u001b[0m\u001b[0;34m\u001b[0m\u001b[0m\n",
      "\u001b[0;31mKeyboardInterrupt\u001b[0m: "
     ]
    }
   ],
   "source": [
    "cap = cv2.VideoCapture(0)\n",
    "\n",
    "while True:\n",
    "    success, frame = cap.read()\n",
    "    \n",
    "    #im2 = cv2.cvtColor(frame, cv2.COLOR_BGR2GRAY)\n",
    "\n",
    "    #cv2.imshow('press q for quit', capImg)\n",
    "    cv2.imshow('frame', frame)\n",
    "    if cv2.waitKey(1) & 0xFF == ord('q'):\n",
    "        #os.chdir(os.getcwd())\n",
    "        #filename = 'CaptureImage.jpg'\n",
    "        #print(cv2.imwrite(filename, frame))\n",
    "        break\n",
    "cap.release()\n",
    "cv2.destroyAllWindows()"
   ]
  },
  {
   "cell_type": "code",
   "execution_count": 27,
   "id": "0554d2a4",
   "metadata": {},
   "outputs": [],
   "source": [
    "cap = cv2.VideoCapture(0)\n",
    "cap.release()\n",
    "cv2.destroyAllWindows()"
   ]
  },
  {
   "cell_type": "code",
   "execution_count": 25,
   "id": "98e7c8c5",
   "metadata": {},
   "outputs": [],
   "source": []
  },
  {
   "cell_type": "code",
   "execution_count": null,
   "id": "e1114a7f",
   "metadata": {},
   "outputs": [],
   "source": []
  }
 ],
 "metadata": {
  "kernelspec": {
   "display_name": "Python 3 (ipykernel)",
   "language": "python",
   "name": "python3"
  },
  "language_info": {
   "codemirror_mode": {
    "name": "ipython",
    "version": 3
   },
   "file_extension": ".py",
   "mimetype": "text/x-python",
   "name": "python",
   "nbconvert_exporter": "python",
   "pygments_lexer": "ipython3",
   "version": "3.9.6"
  }
 },
 "nbformat": 4,
 "nbformat_minor": 5
}
