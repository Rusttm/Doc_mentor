{
 "cells": [
  {
   "cell_type": "markdown",
   "id": "4722e4de",
   "metadata": {},
   "source": [
    "### Mudule extract data from pdf file"
   ]
  },
  {
   "cell_type": "code",
   "execution_count": 10,
   "id": "3dbe6029",
   "metadata": {},
   "outputs": [],
   "source": [
    "import io\n",
    "import os\n",
    "import sys\n",
    "from pdfminer.converter import TextConverter\n",
    "from pdfminer.pdfinterp import PDFPageInterpreter\n",
    "from pdfminer.pdfinterp import PDFResourceManager\n",
    "from pdfminer.pdfpage import PDFPage\n",
    "from pdf2image import convert_from_path\n"
   ]
  },
  {
   "cell_type": "code",
   "execution_count": 11,
   "id": "85d69cd8",
   "metadata": {},
   "outputs": [
    {
     "name": "stdout",
     "output_type": "stream",
     "text": [
      "/Users/johnlennon/My Drive/Python/Doc_mentor/Doc_mentor\n",
      "/Library/Frameworks/Python.framework/Versions/3.8/lib/python3.8/site-packages/ipykernel_launcher.py\n",
      "/Users/johnlennon/My Drive/Python/Doc_mentor/Doc_mentor\n"
     ]
    }
   ],
   "source": [
    "print(os.getcwd())\n",
    "print(sys.argv[0])\n",
    "print(os.path.dirname(os.path.realpath('__file__')))"
   ]
  },
  {
   "cell_type": "code",
   "execution_count": 12,
   "id": "19c4af97",
   "metadata": {},
   "outputs": [],
   "source": [
    "# file directory\n",
    "work_file_dir = os.path.dirname(os.path.realpath('__file__'))\n",
    "# WORK_DIR = os.getcwd()\n",
    "\n",
    "# Check pdf absolute path\n",
    "PDFs_PATH = os.path.join(work_file_dir, 'data/')\n",
    "# OUT_PATH = os.path.join(work_file_dir, 'data/202109_bill_rec.jpg')\n",
    "# Relative path\n",
    "PDF_FILE = 'data/202109_bill_rec.pdf'\n",
    "# OUTPUT_FILE = 'data/simple_bill.txt'"
   ]
  },
  {
   "cell_type": "code",
   "execution_count": 13,
   "id": "7980db59",
   "metadata": {},
   "outputs": [],
   "source": [
    "# Variant 1\n",
    "### We will use 'pdfminer' library and https://python-scripts.com/exporting-data-from-pdf\n",
    "\n",
    "# bills_names = ['Счет', 'Счёт', 'СЧЕТ', 'С Ч Ё Т', 'СЧЁТ', 'END']\n",
    "# upd_names = ['Фактура', 'END']\n",
    "# act_names = ['Акт', 'END']\n",
    "# pack_names = ['Товарная накладная', 'ТОВАРНАЯ НАКЛАДНАЯ', 'END']\n",
    "\n",
    "\n",
    "# WE_LOOK = upd_names\n",
    "\n",
    "# def extract_text_by_page(PDF_FILE):\n",
    "#     with open(PDF_FILE, 'rb') as fh:\n",
    "#             for page in PDFPage.get_pages(fh, \n",
    "#                                   caching=True,\n",
    "#                                   check_extractable=True):\n",
    "#             resource_manager = PDFResourceManager()\n",
    "#             fake_file_handle = io.StringIO()\n",
    "#             converter = TextConverter(resource_manager, fake_file_handle)\n",
    "#             page_interpreter = PDFPageInterpreter(resource_manager, converter)\n",
    "#             page_interpreter.process_page(page)\n",
    "\n",
    "#             text = fake_file_handle.getvalue()\n",
    "#             yield text\n",
    "\n",
    "#             # close open handles\n",
    "#             converter.close()\n",
    "#             fake_file_handle.close()\n",
    "\n",
    "# def extract_text(PDF_FILE):\n",
    "#     \"\"\" check the pdf file for pages with lookup values and return list of pages\"\"\"\n",
    "#     i = 0\n",
    "#     pages_list = []\n",
    "#     for page in extract_text_by_page(PDF_FILE):\n",
    "#         for bill_feature in WE_LOOK:\n",
    "#             if(page.find(bill_feature) != -1):\n",
    "#                 pages_list.append(i)\n",
    "#                 break\n",
    "#         if (bill_feature == 'END') and (len(page) > 24):\n",
    "#             print(f'На странице {i} не обнаружен {WE_LOOK[0]}', page, '\\n')\n",
    "        \n",
    "#         i += 1\n",
    "#     return pages_list\n",
    "\n",
    "# def extract_pages_to_jpg(PDF_FILE):\n",
    "#     \"\"\"extract jpg files from pdf\"\"\"\n",
    "#     checked_pages = extract_text(PDF_FILE)       \n",
    "#     pages = convert_from_path(PDF_FILE, 200)\n",
    "#     i = 0\n",
    "#     for page in pages:\n",
    "#         print(i)\n",
    "#         if i in checked_pages:\n",
    "#             page.save(f'{PDF_FILE[:-4]}_{i}.jpg', 'JPEG')\n",
    "#         i += 1\n",
    "#     print(f'Extracted pages:{checked_pages}')\n",
    "\n",
    "# extract_pages_to_jpg(PDF_FILE)        "
   ]
  },
  {
   "cell_type": "code",
   "execution_count": 14,
   "id": "08a15435",
   "metadata": {},
   "outputs": [],
   "source": [
    "# Variant 2\n",
    "### We will use 'pdfminer' library and https://python-scripts.com/exporting-data-from-pdf\n",
    "\n",
    "\n",
    "bills_names = ['Счет', 'Счёт', 'СЧЕТ', 'С Ч Ё Т', 'СЧЁТ', 'END']\n",
    "upd_names = ['Фактура', 'фактура','END']\n",
    "act_names = ['Акт', 'END']\n",
    "pack_names = ['Товарная накладная', 'ТОВАРНАЯ НАКЛАДНАЯ', 'END']\n",
    "doc_dict = {'pl':pack_names, 'act': act_names, 'upd': upd_names} # 'bill':bills_names\n",
    "doc_dict_bill = {'pl':pack_names, 'act': act_names, 'bill':bills_names} # 'bill':bills_names\n",
    "JPG_PPI = 100\n",
    "\n",
    "WE_LOOK = doc_dict\n",
    "\n",
    "def extract_text_by_page(PDF_FILE_NAME, path='data/'):\n",
    "    \n",
    "    \n",
    "    for key in doc_dict.keys():\n",
    "        try:\n",
    "            os.mkdir(path+key)\n",
    "        except:\n",
    "            pass\n",
    "#             print(f'Directory {key} was made already')\n",
    "        \n",
    "    extr_pages_dict = {}\n",
    "    i = 0\n",
    "    full_pdf_path = os.path.join(path, PDF_FILE_NAME)\n",
    "    with open(full_pdf_path, 'rb') as fh:\n",
    "        for page in PDFPage.get_pages(fh, caching=True, check_extractable=True):\n",
    "            resource_manager = PDFResourceManager()\n",
    "            fake_file_handle = io.StringIO()\n",
    "            converter = TextConverter(resource_manager, fake_file_handle)\n",
    "            page_interpreter = PDFPageInterpreter(resource_manager, converter)\n",
    "            page_interpreter.process_page(page)\n",
    "            text = fake_file_handle.getvalue()\n",
    "            #lookup matches with features\n",
    "            notfnd = True\n",
    "            for key, names in WE_LOOK.items():\n",
    "                if notfnd:\n",
    "                    for name in names:\n",
    "                        if(text.find(name) != -1):\n",
    "                            extr_pages_dict.update({i:key})\n",
    "                            notfnd = False\n",
    "                            break\n",
    "                else:\n",
    "                    break\n",
    "            i += 1\n",
    "#             yield text\n",
    "\n",
    "            # close open handles\n",
    "            converter.close()\n",
    "            fake_file_handle.close()\n",
    "#     print(f'Dictionary formed {extr_pages_dict}')\n",
    "    # extract to jpg\n",
    "    pages = convert_from_path(full_pdf_path, 100)\n",
    "    i = 0\n",
    "    for page in pages:\n",
    "        if i in extr_pages_dict.keys():\n",
    "            doc_type = extr_pages_dict[i]\n",
    "            out_file_name = f'{PDF_FILE_NAME[:-4]}_{doc_type}_{i}.jpg'\n",
    "            out_file = f'{path}/{doc_type}/{out_file_name}'\n",
    "            try:\n",
    "                page.save(out_file, 'JPEG')\n",
    "            except:\n",
    "                print(f'file {out_file} not saved')\n",
    "#             print(f'Page {i} from {PDF_FILE_NAME} was extracted to {out_file_name}')\n",
    "        i += 1\n",
    "    return True\n",
    "  "
   ]
  },
  {
   "cell_type": "code",
   "execution_count": 15,
   "id": "da265c0f",
   "metadata": {},
   "outputs": [],
   "source": [
    "# Scan dir PDFs_PATH and put file names to list\n",
    "def pdf_files_list(PDFs_PATH, type='abs'):\n",
    "    \"\"\"return list of pdf files absolute or relative\"\"\"\n",
    "    # put all files\n",
    "    PDF_FILE_LIST = [os.path.join(PDFs_PATH, name) \n",
    "                     for name in os.listdir(PDFs_PATH) \n",
    "                     if os.path.isfile(os.path.join(PDFs_PATH, name))]\n",
    "    # select only .pdf files\n",
    "    PDF_FILE_LIST = [elem for elem in PDF_FILE_LIST if elem[-4:]=='.pdf']\n",
    "    PDF_FILE_LIST_ABS = [elem.split('/')[-1] for elem in PDF_FILE_LIST]\n",
    "    if type=='abs':\n",
    "        return PDF_FILE_LIST_ABS\n",
    "    else:\n",
    "        return PDF_FILE_LIST\n",
    "    "
   ]
  },
  {
   "cell_type": "code",
   "execution_count": 17,
   "id": "a149deae",
   "metadata": {},
   "outputs": [
    {
     "name": "stdout",
     "output_type": "stream",
     "text": [
      "File 201905_bill_rec.pdf start extract!\n",
      "File file 201905_bill_rec.pdf was extracted!\n",
      "Finished!\n"
     ]
    }
   ],
   "source": [
    "for file in pdf_files_list(PDFs_PATH):\n",
    "    print(f'File {file} start extract!')\n",
    "    extract_text_by_page(file, path=PDFs_PATH)\n",
    "    print(f'File file {file} was extracted!')\n",
    "print('Finished!')"
   ]
  },
  {
   "cell_type": "code",
   "execution_count": null,
   "id": "c85864c8",
   "metadata": {},
   "outputs": [],
   "source": []
  }
 ],
 "metadata": {
  "kernelspec": {
   "display_name": "Python 3 (ipykernel)",
   "language": "python",
   "name": "python3"
  },
  "language_info": {
   "codemirror_mode": {
    "name": "ipython",
    "version": 3
   },
   "file_extension": ".py",
   "mimetype": "text/x-python",
   "name": "python",
   "nbconvert_exporter": "python",
   "pygments_lexer": "ipython3",
   "version": "3.8.0"
  }
 },
 "nbformat": 4,
 "nbformat_minor": 5
}
